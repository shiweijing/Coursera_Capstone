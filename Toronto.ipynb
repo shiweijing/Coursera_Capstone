{
  "nbformat": 4,
  "nbformat_minor": 0,
  "metadata": {
    "colab": {
      "name": "Toronto.ipynb",
      "provenance": [],
      "collapsed_sections": [],
      "authorship_tag": "ABX9TyMvTuaQYJdObMya9HUKsDLV",
      "include_colab_link": true
    },
    "kernelspec": {
      "name": "python3",
      "display_name": "Python 3"
    }
  },
  "cells": [
    {
      "cell_type": "markdown",
      "metadata": {
        "id": "view-in-github",
        "colab_type": "text"
      },
      "source": [
        "<a href=\"https://colab.research.google.com/github/shiweijing/Coursera_Capstone/blob/master/Toronto.ipynb\" target=\"_parent\"><img src=\"https://colab.research.google.com/assets/colab-badge.svg\" alt=\"Open In Colab\"/></a>"
      ]
    },
    {
      "cell_type": "markdown",
      "metadata": {
        "id": "WVEKjfVjKAtw",
        "colab_type": "text"
      },
      "source": [
        "# **Neighborhoods in Toronto**"
      ]
    },
    {
      "cell_type": "code",
      "metadata": {
        "id": "1OHNxt3xIr4M",
        "colab_type": "code",
        "colab": {}
      },
      "source": [
        "import numpy as np\n",
        "import pandas as pd"
      ],
      "execution_count": 1,
      "outputs": []
    },
    {
      "cell_type": "code",
      "metadata": {
        "id": "pm0-vDjzJ5eN",
        "colab_type": "code",
        "colab": {
          "base_uri": "https://localhost:8080/",
          "height": 265
        },
        "outputId": "00a84f4a-6bad-40f8-dd92-b925e5982f22"
      },
      "source": [
        "#import Neighbour of Toronto from WIKIPEDIA website\n",
        "tables = pd.read_html(\"https://en.wikipedia.org/wiki/List_of_postal_codes_of_Canada:_M\")\n",
        "print(tables[0])"
      ],
      "execution_count": 2,
      "outputs": [
        {
          "output_type": "stream",
          "text": [
            "    Postal Code  ...                                      Neighbourhood\n",
            "0           M1A  ...                                       Not assigned\n",
            "1           M2A  ...                                       Not assigned\n",
            "2           M3A  ...                                          Parkwoods\n",
            "3           M4A  ...                                   Victoria Village\n",
            "4           M5A  ...                          Regent Park, Harbourfront\n",
            "..          ...  ...                                                ...\n",
            "175         M5Z  ...                                       Not assigned\n",
            "176         M6Z  ...                                       Not assigned\n",
            "177         M7Z  ...                                       Not assigned\n",
            "178         M8Z  ...  Mimico NW, The Queensway West, South of Bloor,...\n",
            "179         M9Z  ...                                       Not assigned\n",
            "\n",
            "[180 rows x 3 columns]\n"
          ],
          "name": "stdout"
        }
      ]
    },
    {
      "cell_type": "code",
      "metadata": {
        "id": "G6GiZyWRL6o1",
        "colab_type": "code",
        "colab": {
          "base_uri": "https://localhost:8080/",
          "height": 265
        },
        "outputId": "83b58fd8-7db5-475d-b000-03a0a1e18b40"
      },
      "source": [
        "#remove rows with borough = Not assigned\n",
        "df=tables[0]\n",
        "df.head()\n",
        "df=df[df['Borough']!='Not assigned']\n",
        "print(df)"
      ],
      "execution_count": 8,
      "outputs": [
        {
          "output_type": "stream",
          "text": [
            "    Postal Code  ...                                      Neighbourhood\n",
            "2           M3A  ...                                          Parkwoods\n",
            "3           M4A  ...                                   Victoria Village\n",
            "4           M5A  ...                          Regent Park, Harbourfront\n",
            "5           M6A  ...                   Lawrence Manor, Lawrence Heights\n",
            "6           M7A  ...        Queen's Park, Ontario Provincial Government\n",
            "..          ...  ...                                                ...\n",
            "160         M8X  ...      The Kingsway, Montgomery Road, Old Mill North\n",
            "165         M4Y  ...                               Church and Wellesley\n",
            "168         M7Y  ...  Business reply mail Processing Centre, South C...\n",
            "169         M8Y  ...  Old Mill South, King's Mill Park, Sunnylea, Hu...\n",
            "178         M8Z  ...  Mimico NW, The Queensway West, South of Bloor,...\n",
            "\n",
            "[103 rows x 3 columns]\n"
          ],
          "name": "stdout"
        }
      ]
    },
    {
      "cell_type": "code",
      "metadata": {
        "id": "HBmMHn9iMGIN",
        "colab_type": "code",
        "colab": {
          "base_uri": "https://localhost:8080/",
          "height": 47
        },
        "outputId": "d27e6cf8-275f-4219-a66f-4b8e34f73016"
      },
      "source": [
        "#check if there is cell where neighbourhood is not assigned\n",
        "df[df['Neighbourhood']=='Not assigned']"
      ],
      "execution_count": 14,
      "outputs": [
        {
          "output_type": "execute_result",
          "data": {
            "text/html": [
              "<div>\n",
              "<style scoped>\n",
              "    .dataframe tbody tr th:only-of-type {\n",
              "        vertical-align: middle;\n",
              "    }\n",
              "\n",
              "    .dataframe tbody tr th {\n",
              "        vertical-align: top;\n",
              "    }\n",
              "\n",
              "    .dataframe thead th {\n",
              "        text-align: right;\n",
              "    }\n",
              "</style>\n",
              "<table border=\"1\" class=\"dataframe\">\n",
              "  <thead>\n",
              "    <tr style=\"text-align: right;\">\n",
              "      <th></th>\n",
              "      <th>Postal Code</th>\n",
              "      <th>Borough</th>\n",
              "      <th>Neighbourhood</th>\n",
              "    </tr>\n",
              "  </thead>\n",
              "  <tbody>\n",
              "  </tbody>\n",
              "</table>\n",
              "</div>"
            ],
            "text/plain": [
              "Empty DataFrame\n",
              "Columns: [Postal Code, Borough, Neighbourhood]\n",
              "Index: []"
            ]
          },
          "metadata": {
            "tags": []
          },
          "execution_count": 14
        }
      ]
    },
    {
      "cell_type": "markdown",
      "metadata": {
        "id": "jrpDU3LsPRvs",
        "colab_type": "text"
      },
      "source": [
        "print the shape of the dataframe"
      ]
    },
    {
      "cell_type": "code",
      "metadata": {
        "id": "vzRljnA9PWFD",
        "colab_type": "code",
        "colab": {
          "base_uri": "https://localhost:8080/",
          "height": 34
        },
        "outputId": "b98b56f8-3c73-4b0d-9089-d3733f616ce0"
      },
      "source": [
        "df.shape"
      ],
      "execution_count": 15,
      "outputs": [
        {
          "output_type": "execute_result",
          "data": {
            "text/plain": [
              "(103, 3)"
            ]
          },
          "metadata": {
            "tags": []
          },
          "execution_count": 15
        }
      ]
    }
  ]
}